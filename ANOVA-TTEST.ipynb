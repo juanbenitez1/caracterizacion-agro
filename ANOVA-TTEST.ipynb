{
  "nbformat": 4,
  "nbformat_minor": 0,
  "metadata": {
    "colab": {
      "name": "Copia de proyecto Agro",
      "provenance": [],
      "collapsed_sections": [
        "uJ5bGH9D631n",
        "dSP-yr5NouQf",
        "8L9bjdNt5FUt",
        "p9y4YGud-M7p",
        "eTRLQ14jtVpX",
        "hJTKy1MTtsZs",
        "lD9xe2YksV_f",
        "rN9Tm_2u2DnH",
        "kjDnxu2w5U99",
        "TOd6Ppyl5aTk",
        "kgZBGK6j9kNT",
        "8ofOW_LVAJRA",
        "sfLaSTM1G0Kj",
        "tEtaC8tClLJu",
        "E5kSPEBm3uy0",
        "0dHylc_37rnQ",
        "xuCXbEhQixTm",
        "UT4tx8gokEeR",
        "dNxx2wiHk66j",
        "HEmA5UxFuJb2",
        "6kM-xEW84YKT",
        "iUl0neAr5oT8",
        "0Irevi3h5szj",
        "s7HqOjjZ5xD6",
        "b4tUlpms0uxD",
        "ckEJup7v5OnK",
        "H_AdwHcVjeqb",
        "o6gFSe4Nksv_",
        "jGK4qFcIsZs3",
        "wSXWGqL8svyo",
        "0XKE2XKutZx6",
        "-jPqygPptqT6",
        "umPSUBrMuBQx",
        "XI7QDCf1vhv1",
        "qKrB2Labv1PE",
        "tseTf--awHBJ",
        "KYuajaLCwjI-",
        "QHV-HImo25HK",
        "VndCv83VwySQ",
        "MQ4F9Jvm3Q3Q",
        "4YHF4vlO3sB7"
      ]
    },
    "kernelspec": {
      "name": "python3",
      "display_name": "Python 3"
    },
    "language_info": {
      "name": "python"
    }
  },
  "cells": [
    {
      "cell_type": "code",
      "metadata": {
        "id": "5pNS4B3oPWv0"
      },
      "source": [
        "import pandas as pd\n",
        "import matplotlib.pyplot as plt\n",
        "import numpy as np\n",
        "import seaborn as sns\n",
        "from matplotlib.colors import LinearSegmentedColormap"
      ],
      "execution_count": null,
      "outputs": []
    },
    {
      "cell_type": "markdown",
      "metadata": {
        "id": "HEmA5UxFuJb2"
      },
      "source": [
        "# **ESTADÍSTICAS**"
      ]
    },
    {
      "cell_type": "code",
      "metadata": {
        "colab": {
          "base_uri": "https://localhost:8080/"
        },
        "id": "iJFFzXcc4SJc",
        "outputId": "a5349898-8321-4ec7-9edf-80968bc61344"
      },
      "source": [
        "lye"
      ],
      "execution_count": null,
      "outputs": [
        {
          "output_type": "execute_result",
          "data": {
            "text/html": [
              "<div>\n",
              "<style scoped>\n",
              "    .dataframe tbody tr th:only-of-type {\n",
              "        vertical-align: middle;\n",
              "    }\n",
              "\n",
              "    .dataframe tbody tr th {\n",
              "        vertical-align: top;\n",
              "    }\n",
              "\n",
              "    .dataframe thead th {\n",
              "        text-align: right;\n",
              "    }\n",
              "</style>\n",
              "<table border=\"1\" class=\"dataframe\">\n",
              "  <thead>\n",
              "    <tr style=\"text-align: right;\">\n",
              "      <th></th>\n",
              "      <th>Departamento</th>\n",
              "      <th>Sabe Leer y Escribir</th>\n",
              "      <th>No Sabe Leer y Escribir</th>\n",
              "      <th>Total</th>\n",
              "      <th>Poblacion</th>\n",
              "      <th>Sabe Leer y Escribir %</th>\n",
              "      <th>No Sabe Leer y Escribir %</th>\n",
              "    </tr>\n",
              "    <tr>\n",
              "      <th>Microrregion</th>\n",
              "      <th></th>\n",
              "      <th></th>\n",
              "      <th></th>\n",
              "      <th></th>\n",
              "      <th></th>\n",
              "      <th></th>\n",
              "      <th></th>\n",
              "    </tr>\n",
              "  </thead>\n",
              "  <tbody>\n",
              "    <tr>\n",
              "      <th>Sur</th>\n",
              "      <td>Apóstoles</td>\n",
              "      <td>13235</td>\n",
              "      <td>1235</td>\n",
              "      <td>14470</td>\n",
              "      <td>42249</td>\n",
              "      <td>31.33</td>\n",
              "      <td>2.92</td>\n",
              "    </tr>\n",
              "    <tr>\n",
              "      <th>Centro</th>\n",
              "      <td>Cainguás</td>\n",
              "      <td>17038</td>\n",
              "      <td>1943</td>\n",
              "      <td>18981</td>\n",
              "      <td>53403</td>\n",
              "      <td>31.90</td>\n",
              "      <td>3.64</td>\n",
              "    </tr>\n",
              "    <tr>\n",
              "      <th>Sur</th>\n",
              "      <td>Candelaria</td>\n",
              "      <td>8440</td>\n",
              "      <td>906</td>\n",
              "      <td>9346</td>\n",
              "      <td>27040</td>\n",
              "      <td>31.21</td>\n",
              "      <td>3.35</td>\n",
              "    </tr>\n",
              "    <tr>\n",
              "      <th>Sur</th>\n",
              "      <td>Capital</td>\n",
              "      <td>90497</td>\n",
              "      <td>7243</td>\n",
              "      <td>97740</td>\n",
              "      <td>324756</td>\n",
              "      <td>27.87</td>\n",
              "      <td>2.23</td>\n",
              "    </tr>\n",
              "    <tr>\n",
              "      <th>Sur</th>\n",
              "      <td>Concepción</td>\n",
              "      <td>3121</td>\n",
              "      <td>300</td>\n",
              "      <td>3421</td>\n",
              "      <td>9577</td>\n",
              "      <td>32.59</td>\n",
              "      <td>3.13</td>\n",
              "    </tr>\n",
              "    <tr>\n",
              "      <th>Alto Parana</th>\n",
              "      <td>Eldorado</td>\n",
              "      <td>23134</td>\n",
              "      <td>2226</td>\n",
              "      <td>25360</td>\n",
              "      <td>78581</td>\n",
              "      <td>29.44</td>\n",
              "      <td>2.83</td>\n",
              "    </tr>\n",
              "    <tr>\n",
              "      <th>Nordeste</th>\n",
              "      <td>General Manuel Belgrano</td>\n",
              "      <td>14235</td>\n",
              "      <td>1959</td>\n",
              "      <td>16194</td>\n",
              "      <td>42902</td>\n",
              "      <td>33.18</td>\n",
              "      <td>4.57</td>\n",
              "    </tr>\n",
              "    <tr>\n",
              "      <th>Alto Uruguay</th>\n",
              "      <td>Guaraní</td>\n",
              "      <td>21875</td>\n",
              "      <td>3152</td>\n",
              "      <td>25027</td>\n",
              "      <td>67897</td>\n",
              "      <td>32.22</td>\n",
              "      <td>4.64</td>\n",
              "    </tr>\n",
              "    <tr>\n",
              "      <th>Alto Parana</th>\n",
              "      <td>Iguazú</td>\n",
              "      <td>24860</td>\n",
              "      <td>2597</td>\n",
              "      <td>27457</td>\n",
              "      <td>82227</td>\n",
              "      <td>30.23</td>\n",
              "      <td>3.16</td>\n",
              "    </tr>\n",
              "    <tr>\n",
              "      <th>Centro</th>\n",
              "      <td>Leandro N. Alem</td>\n",
              "      <td>13121</td>\n",
              "      <td>1210</td>\n",
              "      <td>14331</td>\n",
              "      <td>45075</td>\n",
              "      <td>29.11</td>\n",
              "      <td>2.68</td>\n",
              "    </tr>\n",
              "    <tr>\n",
              "      <th>Oeste</th>\n",
              "      <td>Libertador General San Martín</td>\n",
              "      <td>14262</td>\n",
              "      <td>1483</td>\n",
              "      <td>15745</td>\n",
              "      <td>46561</td>\n",
              "      <td>30.63</td>\n",
              "      <td>3.19</td>\n",
              "    </tr>\n",
              "    <tr>\n",
              "      <th>Oeste</th>\n",
              "      <td>Montecarlo</td>\n",
              "      <td>11585</td>\n",
              "      <td>1010</td>\n",
              "      <td>12595</td>\n",
              "      <td>36745</td>\n",
              "      <td>31.53</td>\n",
              "      <td>2.75</td>\n",
              "    </tr>\n",
              "    <tr>\n",
              "      <th>Centro</th>\n",
              "      <td>Oberá</td>\n",
              "      <td>32078</td>\n",
              "      <td>3030</td>\n",
              "      <td>35108</td>\n",
              "      <td>107501</td>\n",
              "      <td>29.84</td>\n",
              "      <td>2.82</td>\n",
              "    </tr>\n",
              "    <tr>\n",
              "      <th>Oeste</th>\n",
              "      <td>San Ignacio</td>\n",
              "      <td>18407</td>\n",
              "      <td>1949</td>\n",
              "      <td>20356</td>\n",
              "      <td>57728</td>\n",
              "      <td>31.89</td>\n",
              "      <td>3.38</td>\n",
              "    </tr>\n",
              "    <tr>\n",
              "      <th>Sur</th>\n",
              "      <td>San Javier</td>\n",
              "      <td>6531</td>\n",
              "      <td>648</td>\n",
              "      <td>7179</td>\n",
              "      <td>20906</td>\n",
              "      <td>31.24</td>\n",
              "      <td>3.10</td>\n",
              "    </tr>\n",
              "    <tr>\n",
              "      <th>Nordeste</th>\n",
              "      <td>San Pedro</td>\n",
              "      <td>10588</td>\n",
              "      <td>1591</td>\n",
              "      <td>12179</td>\n",
              "      <td>31051</td>\n",
              "      <td>34.10</td>\n",
              "      <td>5.12</td>\n",
              "    </tr>\n",
              "    <tr>\n",
              "      <th>Alto Uruguay</th>\n",
              "      <td>25 de Mayo</td>\n",
              "      <td>8757</td>\n",
              "      <td>990</td>\n",
              "      <td>9747</td>\n",
              "      <td>27754</td>\n",
              "      <td>31.55</td>\n",
              "      <td>3.57</td>\n",
              "    </tr>\n",
              "  </tbody>\n",
              "</table>\n",
              "</div>"
            ],
            "text/plain": [
              "                               Departamento  ...  No Sabe Leer y Escribir %\n",
              "Microrregion                                 ...                           \n",
              "Sur                               Apóstoles  ...                       2.92\n",
              "Centro                             Cainguás  ...                       3.64\n",
              "Sur                              Candelaria  ...                       3.35\n",
              "Sur                                 Capital  ...                       2.23\n",
              "Sur                              Concepción  ...                       3.13\n",
              "Alto Parana                        Eldorado  ...                       2.83\n",
              "Nordeste            General Manuel Belgrano  ...                       4.57\n",
              "Alto Uruguay                        Guaraní  ...                       4.64\n",
              "Alto Parana                          Iguazú  ...                       3.16\n",
              "Centro                      Leandro N. Alem  ...                       2.68\n",
              "Oeste         Libertador General San Martín  ...                       3.19\n",
              "Oeste                            Montecarlo  ...                       2.75\n",
              "Centro                                Oberá  ...                       2.82\n",
              "Oeste                           San Ignacio  ...                       3.38\n",
              "Sur                              San Javier  ...                       3.10\n",
              "Nordeste                          San Pedro  ...                       5.12\n",
              "Alto Uruguay                     25 de Mayo  ...                       3.57\n",
              "\n",
              "[17 rows x 7 columns]"
            ]
          },
          "metadata": {},
          "execution_count": 519
        }
      ]
    },
    {
      "cell_type": "code",
      "metadata": {
        "id": "NX3-898pB9xp"
      },
      "source": [
        "analisis1 = lye[['Departamento','Sabe Leer y Escribir %','No Sabe Leer y Escribir %','Total']]\n",
        "analisis1 = analisis1.rename(columns={'Sabe Leer y Escribir %':'Lee','No Sabe Leer y Escribir %':'NoLee x Depto','Total':'TotalLee'})\n",
        "analisis1 = analisis1.merge(regiones,how='inner',on='Departamento')\n",
        "cols = analisis1.columns.tolist()\n",
        "cols = cols[-1:] + cols[:-1]\n",
        "analisis1 = analisis1[cols]"
      ],
      "execution_count": null,
      "outputs": []
    },
    {
      "cell_type": "markdown",
      "metadata": {
        "id": "ivUpuYshK7Jy"
      },
      "source": [
        "## **ANOVA**"
      ]
    },
    {
      "cell_type": "markdown",
      "metadata": {
        "id": "6kM-xEW84YKT"
      },
      "source": [
        "###Datos"
      ]
    },
    {
      "cell_type": "code",
      "metadata": {
        "colab": {
          "base_uri": "https://localhost:8080/"
        },
        "id": "FeO_qvYQ4ZfF",
        "outputId": "c5856185-57b4-4fbb-ef2a-f8c4fd6129ea"
      },
      "source": [
        "anova1 = analisis1\n",
        "anova1['Poblacion'] = agro['TOTAL-Pob']\n",
        "#anova1['NoLee x Depto'] = anova1['NoLee']/analisis1['Poblacion']*100\n",
        "anova1"
      ],
      "execution_count": null,
      "outputs": [
        {
          "output_type": "execute_result",
          "data": {
            "text/html": [
              "<div>\n",
              "<style scoped>\n",
              "    .dataframe tbody tr th:only-of-type {\n",
              "        vertical-align: middle;\n",
              "    }\n",
              "\n",
              "    .dataframe tbody tr th {\n",
              "        vertical-align: top;\n",
              "    }\n",
              "\n",
              "    .dataframe thead th {\n",
              "        text-align: right;\n",
              "    }\n",
              "</style>\n",
              "<table border=\"1\" class=\"dataframe\">\n",
              "  <thead>\n",
              "    <tr style=\"text-align: right;\">\n",
              "      <th></th>\n",
              "      <th>Microrregion</th>\n",
              "      <th>Departamento</th>\n",
              "      <th>Lee</th>\n",
              "      <th>NoLee x Depto</th>\n",
              "      <th>TotalLee</th>\n",
              "      <th>Poblacion</th>\n",
              "    </tr>\n",
              "  </thead>\n",
              "  <tbody>\n",
              "    <tr>\n",
              "      <th>0</th>\n",
              "      <td>Sur</td>\n",
              "      <td>Apóstoles</td>\n",
              "      <td>31.33</td>\n",
              "      <td>2.92</td>\n",
              "      <td>14470</td>\n",
              "      <td>42249</td>\n",
              "    </tr>\n",
              "    <tr>\n",
              "      <th>1</th>\n",
              "      <td>Centro</td>\n",
              "      <td>Cainguás</td>\n",
              "      <td>31.90</td>\n",
              "      <td>3.64</td>\n",
              "      <td>18981</td>\n",
              "      <td>53403</td>\n",
              "    </tr>\n",
              "    <tr>\n",
              "      <th>2</th>\n",
              "      <td>Sur</td>\n",
              "      <td>Candelaria</td>\n",
              "      <td>31.21</td>\n",
              "      <td>3.35</td>\n",
              "      <td>9346</td>\n",
              "      <td>27040</td>\n",
              "    </tr>\n",
              "    <tr>\n",
              "      <th>3</th>\n",
              "      <td>Sur</td>\n",
              "      <td>Capital</td>\n",
              "      <td>27.87</td>\n",
              "      <td>2.23</td>\n",
              "      <td>97740</td>\n",
              "      <td>324756</td>\n",
              "    </tr>\n",
              "    <tr>\n",
              "      <th>4</th>\n",
              "      <td>Sur</td>\n",
              "      <td>Concepción</td>\n",
              "      <td>32.59</td>\n",
              "      <td>3.13</td>\n",
              "      <td>3421</td>\n",
              "      <td>9577</td>\n",
              "    </tr>\n",
              "    <tr>\n",
              "      <th>5</th>\n",
              "      <td>Alto Parana</td>\n",
              "      <td>Eldorado</td>\n",
              "      <td>29.44</td>\n",
              "      <td>2.83</td>\n",
              "      <td>25360</td>\n",
              "      <td>78581</td>\n",
              "    </tr>\n",
              "    <tr>\n",
              "      <th>6</th>\n",
              "      <td>Nordeste</td>\n",
              "      <td>General Manuel Belgrano</td>\n",
              "      <td>33.18</td>\n",
              "      <td>4.57</td>\n",
              "      <td>16194</td>\n",
              "      <td>42902</td>\n",
              "    </tr>\n",
              "    <tr>\n",
              "      <th>7</th>\n",
              "      <td>Alto Uruguay</td>\n",
              "      <td>Guaraní</td>\n",
              "      <td>32.22</td>\n",
              "      <td>4.64</td>\n",
              "      <td>25027</td>\n",
              "      <td>67897</td>\n",
              "    </tr>\n",
              "    <tr>\n",
              "      <th>8</th>\n",
              "      <td>Alto Parana</td>\n",
              "      <td>Iguazú</td>\n",
              "      <td>30.23</td>\n",
              "      <td>3.16</td>\n",
              "      <td>27457</td>\n",
              "      <td>82227</td>\n",
              "    </tr>\n",
              "    <tr>\n",
              "      <th>9</th>\n",
              "      <td>Centro</td>\n",
              "      <td>Leandro N. Alem</td>\n",
              "      <td>29.11</td>\n",
              "      <td>2.68</td>\n",
              "      <td>14331</td>\n",
              "      <td>45075</td>\n",
              "    </tr>\n",
              "    <tr>\n",
              "      <th>10</th>\n",
              "      <td>Oeste</td>\n",
              "      <td>Libertador General San Martín</td>\n",
              "      <td>30.63</td>\n",
              "      <td>3.19</td>\n",
              "      <td>15745</td>\n",
              "      <td>46561</td>\n",
              "    </tr>\n",
              "    <tr>\n",
              "      <th>11</th>\n",
              "      <td>Oeste</td>\n",
              "      <td>Montecarlo</td>\n",
              "      <td>31.53</td>\n",
              "      <td>2.75</td>\n",
              "      <td>12595</td>\n",
              "      <td>36745</td>\n",
              "    </tr>\n",
              "    <tr>\n",
              "      <th>12</th>\n",
              "      <td>Centro</td>\n",
              "      <td>Oberá</td>\n",
              "      <td>29.84</td>\n",
              "      <td>2.82</td>\n",
              "      <td>35108</td>\n",
              "      <td>107501</td>\n",
              "    </tr>\n",
              "    <tr>\n",
              "      <th>13</th>\n",
              "      <td>Oeste</td>\n",
              "      <td>San Ignacio</td>\n",
              "      <td>31.89</td>\n",
              "      <td>3.38</td>\n",
              "      <td>20356</td>\n",
              "      <td>57728</td>\n",
              "    </tr>\n",
              "    <tr>\n",
              "      <th>14</th>\n",
              "      <td>Sur</td>\n",
              "      <td>San Javier</td>\n",
              "      <td>31.24</td>\n",
              "      <td>3.10</td>\n",
              "      <td>7179</td>\n",
              "      <td>20906</td>\n",
              "    </tr>\n",
              "    <tr>\n",
              "      <th>15</th>\n",
              "      <td>Nordeste</td>\n",
              "      <td>San Pedro</td>\n",
              "      <td>34.10</td>\n",
              "      <td>5.12</td>\n",
              "      <td>12179</td>\n",
              "      <td>31051</td>\n",
              "    </tr>\n",
              "    <tr>\n",
              "      <th>16</th>\n",
              "      <td>Alto Uruguay</td>\n",
              "      <td>25 de Mayo</td>\n",
              "      <td>31.55</td>\n",
              "      <td>3.57</td>\n",
              "      <td>9747</td>\n",
              "      <td>27754</td>\n",
              "    </tr>\n",
              "  </tbody>\n",
              "</table>\n",
              "</div>"
            ],
            "text/plain": [
              "    Microrregion                   Departamento  ...  TotalLee  Poblacion\n",
              "0            Sur                      Apóstoles  ...     14470      42249\n",
              "1         Centro                       Cainguás  ...     18981      53403\n",
              "2            Sur                     Candelaria  ...      9346      27040\n",
              "3            Sur                        Capital  ...     97740     324756\n",
              "4            Sur                     Concepción  ...      3421       9577\n",
              "5    Alto Parana                       Eldorado  ...     25360      78581\n",
              "6       Nordeste        General Manuel Belgrano  ...     16194      42902\n",
              "7   Alto Uruguay                        Guaraní  ...     25027      67897\n",
              "8    Alto Parana                         Iguazú  ...     27457      82227\n",
              "9         Centro                Leandro N. Alem  ...     14331      45075\n",
              "10         Oeste  Libertador General San Martín  ...     15745      46561\n",
              "11         Oeste                     Montecarlo  ...     12595      36745\n",
              "12        Centro                          Oberá  ...     35108     107501\n",
              "13         Oeste                    San Ignacio  ...     20356      57728\n",
              "14           Sur                     San Javier  ...      7179      20906\n",
              "15      Nordeste                      San Pedro  ...     12179      31051\n",
              "16  Alto Uruguay                     25 de Mayo  ...      9747      27754\n",
              "\n",
              "[17 rows x 6 columns]"
            ]
          },
          "metadata": {},
          "execution_count": 521
        }
      ]
    },
    {
      "cell_type": "markdown",
      "metadata": {
        "id": "iUl0neAr5oT8"
      },
      "source": [
        "### Analisis normalidad"
      ]
    },
    {
      "cell_type": "code",
      "metadata": {
        "id": "m86PvFYQD4mI",
        "colab": {
          "base_uri": "https://localhost:8080/"
        },
        "outputId": "9848a1c6-3d5b-4ee8-f271-5ad4c7ec8217"
      },
      "source": [
        "from scipy import stats\n",
        "# QQ Plot para analizar normalidad\n",
        "unique_microrregiones = anova1['Microrregion'].unique()\n",
        "for major in unique_microrregiones:\n",
        "    stats.probplot(anova1[anova1['Microrregion'] == major]['NoLee x Depto'], dist=\"norm\", plot=plt)\n",
        "    plt.title(\"Probability Plot - \" +  major)\n",
        "    plt.show()"
      ],
      "execution_count": null,
      "outputs": [
        {
          "output_type": "display_data",
          "data": {
            "image/png": "[encoded data removed]",
            "text/plain": [
              "<Figure size 432x288 with 1 Axes>"
            ]
          },
          "metadata": {
            "needs_background": "light"
          }
        },
        {
          "output_type": "display_data",
          "data": {
            "image/png": "[encoded data removed]",
            "text/plain": [
              "<Figure size 432x288 with 1 Axes>"
            ]
          },
          "metadata": {
            "needs_background": "light"
          }
        },
        {
          "output_type": "display_data",
          "data": {
            "image/png": "[encoded data removed]",
            "text/plain": [
              "<Figure size 432x288 with 1 Axes>"
            ]
          },
          "metadata": {
            "needs_background": "light"
          }
        },
        {
          "output_type": "display_data",
          "data": {
            "image/png": "[encoded data removed]",
            "text/plain": [
              "<Figure size 432x288 with 1 Axes>"
            ]
          },
          "metadata": {
            "needs_background": "light"
          }
        },
        {
          "output_type": "display_data",
          "data": {
            "image/png": "[encoded data removed]",
            "text/plain": [
              "<Figure size 432x288 with 1 Axes>"
            ]
          },
          "metadata": {
            "needs_background": "light"
          }
        },
        {
          "output_type": "display_data",
          "data": {
            "image/png": "[encoded data removed]",
            "text/plain": [
              "<Figure size 432x288 with 1 Axes>"
            ]
          },
          "metadata": {
            "needs_background": "light"
          }
        }
      ]
    },
    {
      "cell_type": "markdown",
      "metadata": {
        "id": "0Irevi3h5szj"
      },
      "source": [
        "### Analisis varianza homogenea"
      ]
    },
    {
      "cell_type": "code",
      "metadata": {
        "colab": {
          "base_uri": "https://localhost:8080/"
        },
        "id": "8LDl-XoaEPdP",
        "outputId": "8a282e2f-1724-4575-e5ae-3a0d654c4da4"
      },
      "source": [
        "# calculate ratio of the largest to the smallest sample standard deviation\n",
        "ratio = anova1.groupby('Microrregion').std().max() / anova1.groupby('Microrregion').std().min()\n",
        "ratio"
      ],
      "execution_count": null,
      "outputs": [
        {
          "output_type": "execute_result",
          "data": {
            "text/plain": [
              "Lee               3.719396\n",
              "NoLee x Depto     3.242424\n",
              "TotalLee         27.018131\n",
              "Poblacion        52.208018\n",
              "dtype: float64"
            ]
          },
          "metadata": {},
          "execution_count": 523
        }
      ]
    },
    {
      "cell_type": "code",
      "metadata": {
        "id": "sFZqk5W7urDV"
      },
      "source": [
        "medias = anova1.groupby('Microrregion')['NoLee x Depto'].mean()"
      ],
      "execution_count": null,
      "outputs": []
    },
    {
      "cell_type": "markdown",
      "metadata": {
        "id": "s7HqOjjZ5xD6"
      },
      "source": [
        "### Modelo"
      ]
    },
    {
      "cell_type": "code",
      "metadata": {
        "colab": {
          "base_uri": "https://localhost:8080/"
        },
        "id": "QkETz959xUYq",
        "outputId": "6b829071-18dc-4cb0-b3f2-b7be330d1952"
      },
      "source": [
        "# H0 : todas las medias son iguales\n",
        "# H1 : al menos una media difiere\n",
        "# alpha : 0.05\n",
        "\n",
        "anova1\n",
        "groups = anova1.groupby('Microrregion').count().reset_index()\n",
        "groups\n",
        "\n",
        "# Create ANOVA backbone table\n",
        "data = [['Between Groups', '', '', '', '', '', ''], ['Within Groups', '', '', '', '', '', ''], ['Total', '', '', '', '', '', '']] \n",
        "anova_table = pd.DataFrame(data, columns = ['Source of Variation', 'SS', 'df', 'MS', 'F', 'P-value', 'F crit']) \n",
        "anova_table.set_index('Source of Variation', inplace = True)\n",
        "\n",
        "# calculate SSTR and update anova table\n",
        "x_bar = anova1['NoLee x Depto'].mean()\n",
        "SSTR = anova1.groupby('Microrregion').count() * (anova1.groupby('Microrregion').mean() - x_bar)**2\n",
        "anova_table['SS']['Between Groups'] = SSTR['NoLee x Depto'].sum()\n",
        "\n",
        "# calculate SSE and update anova table\n",
        "SSE = (anova1.groupby('Microrregion').count() - 1) * anova1.groupby('Microrregion').std()**2\n",
        "anova_table['SS']['Within Groups'] = SSE['NoLee x Depto'].sum()\n",
        "\n",
        "# calculate SSTR and update anova table\n",
        "SSTR = SSTR['NoLee x Depto'].sum() + SSE['NoLee x Depto'].sum()\n",
        "anova_table['SS']['Total'] = SSTR\n",
        "\n",
        "# update degree of freedom\n",
        "anova_table['df']['Between Groups'] = anova1['Microrregion'].nunique() - 1\n",
        "anova_table['df']['Within Groups'] = anova1.shape[0] - anova1['Microrregion'].nunique()\n",
        "anova_table['df']['Total'] = anova1.shape[0] - 1\n",
        "\n",
        "# calculate MS\n",
        "anova_table['MS'] = anova_table['SS'] / anova_table['df']\n",
        "\n",
        "# calculate F \n",
        "F = anova_table['MS']['Between Groups'] / anova_table['MS']['Within Groups']\n",
        "anova_table['F']['Between Groups'] = F\n",
        "\n",
        "# p-value\n",
        "anova_table['P-value']['Between Groups'] = 1 - stats.f.cdf(F, anova_table['df']['Between Groups'], anova_table['df']['Within Groups'])\n",
        "\n",
        "# F critical \n",
        "alpha = 0.05\n",
        "# possible types \"right-tailed, left-tailed, two-tailed\"\n",
        "tail_hypothesis_type = \"two-tailed\"\n",
        "if tail_hypothesis_type == \"two-tailed\":\n",
        "    alpha /= 2\n",
        "anova_table['F crit']['Between Groups'] = stats.f.ppf(1-alpha, anova_table['df']['Between Groups'], anova_table['df']['Within Groups'])\n",
        "\n",
        "# Final ANOVA Table\n",
        "anova_table"
      ],
      "execution_count": null,
      "outputs": [
        {
          "output_type": "execute_result",
          "data": {
            "text/html": [
              "<div>\n",
              "<style scoped>\n",
              "    .dataframe tbody tr th:only-of-type {\n",
              "        vertical-align: middle;\n",
              "    }\n",
              "\n",
              "    .dataframe tbody tr th {\n",
              "        vertical-align: top;\n",
              "    }\n",
              "\n",
              "    .dataframe thead th {\n",
              "        text-align: right;\n",
              "    }\n",
              "</style>\n",
              "<table border=\"1\" class=\"dataframe\">\n",
              "  <thead>\n",
              "    <tr style=\"text-align: right;\">\n",
              "      <th></th>\n",
              "      <th>SS</th>\n",
              "      <th>df</th>\n",
              "      <th>MS</th>\n",
              "      <th>F</th>\n",
              "      <th>P-value</th>\n",
              "      <th>F crit</th>\n",
              "    </tr>\n",
              "    <tr>\n",
              "      <th>Source of Variation</th>\n",
              "      <th></th>\n",
              "      <th></th>\n",
              "      <th></th>\n",
              "      <th></th>\n",
              "      <th></th>\n",
              "      <th></th>\n",
              "    </tr>\n",
              "  </thead>\n",
              "  <tbody>\n",
              "    <tr>\n",
              "      <th>Between Groups</th>\n",
              "      <td>7.1309</td>\n",
              "      <td>5</td>\n",
              "      <td>1.42618</td>\n",
              "      <td>6.94465</td>\n",
              "      <td>0.00370221</td>\n",
              "      <td>4.044</td>\n",
              "    </tr>\n",
              "    <tr>\n",
              "      <th>Within Groups</th>\n",
              "      <td>2.259</td>\n",
              "      <td>11</td>\n",
              "      <td>0.205364</td>\n",
              "      <td></td>\n",
              "      <td></td>\n",
              "      <td></td>\n",
              "    </tr>\n",
              "    <tr>\n",
              "      <th>Total</th>\n",
              "      <td>9.38991</td>\n",
              "      <td>16</td>\n",
              "      <td>0.586869</td>\n",
              "      <td></td>\n",
              "      <td></td>\n",
              "      <td></td>\n",
              "    </tr>\n",
              "  </tbody>\n",
              "</table>\n",
              "</div>"
            ],
            "text/plain": [
              "                          SS  df        MS        F     P-value F crit\n",
              "Source of Variation                                                   \n",
              "Between Groups        7.1309   5   1.42618  6.94465  0.00370221  4.044\n",
              "Within Groups          2.259  11  0.205364                            \n",
              "Total                9.38991  16  0.586869                            "
            ]
          },
          "metadata": {},
          "execution_count": 525
        }
      ]
    },
    {
      "cell_type": "markdown",
      "metadata": {
        "id": "8e3QxcaX5zkb"
      },
      "source": [
        "### Resultado ANOVA"
      ]
    },
    {
      "cell_type": "code",
      "metadata": {
        "colab": {
          "base_uri": "https://localhost:8080/"
        },
        "id": "3Ag5vcIA_ajx",
        "outputId": "02c0d553-e542-4d03-bea7-da603a20915f"
      },
      "source": [
        "# The p-value approach\n",
        "print(\"Enfoque 1: utilizamos el p-value como regla de decisión\")\n",
        "conclusion = \"No se puede rechazar la hipótesis nula.\"\n",
        "if anova_table['P-value']['Between Groups'] <= alpha:\n",
        "    conclusion = \"Hipótesis nula rechazada.\"\n",
        "print(\"F es:\", anova_table['F']['Between Groups'], \" y el p value es:\", anova_table['P-value']['Between Groups'])    \n",
        "print(conclusion)\n",
        "    \n",
        "# The critical value approach\n",
        "print(\"\\n--------------------------------------------------------------------------------------\")\n",
        "print(\"Enfoque 2: decisión en base al valor F\")\n",
        "conclusion = \"No se puede rechazar la hipótesis nula.\"\n",
        "if anova_table['F']['Between Groups'] > anova_table['F crit']['Between Groups']:\n",
        "    conclusion = \"Hipótesis nula rechazada.\"\n",
        "print(\"F es:\", anova_table['F']['Between Groups'], \" y el valor crítico es:\", anova_table['F crit']['Between Groups'])\n",
        "print(conclusion)"
      ],
      "execution_count": null,
      "outputs": [
        {
          "output_type": "stream",
          "name": "stdout",
          "text": [
            "Enfoque 1: utilizamos el p-value como regla de decisión\n",
            "F es: 6.94464916290952  y el p value es: 0.0037022138417448502\n",
            "Hipótesis nula rechazada.\n",
            "\n",
            "--------------------------------------------------------------------------------------\n",
            "Enfoque 2: decisión en base al valor F\n",
            "F es: 6.94464916290952  y el valor crítico es: 4.04399822206869\n",
            "Hipótesis nula rechazada.\n"
          ]
        }
      ]
    },
    {
      "cell_type": "markdown",
      "metadata": {
        "id": "xSzg98xvLBc5"
      },
      "source": [
        "## **Prueba t para dos muestras**"
      ]
    },
    {
      "cell_type": "markdown",
      "metadata": {
        "id": "b4tUlpms0uxD"
      },
      "source": [
        "### Estructuración de datos"
      ]
    },
    {
      "cell_type": "code",
      "metadata": {
        "id": "chUpuTfmnQ-Z"
      },
      "source": [
        "analisis1['Poblacion'] = agro['TOTAL-Pob']\n",
        "#analisis1['NoLee x Depto'] = analisis1['NoLee']/analisis1['Poblacion']*100"
      ],
      "execution_count": null,
      "outputs": []
    },
    {
      "cell_type": "code",
      "metadata": {
        "colab": {
          "base_uri": "https://localhost:8080/"
        },
        "id": "9V2sCPaHnkgJ",
        "outputId": "20c22a70-0360-4c38-8fec-c577151f6b18"
      },
      "source": [
        "analisis1"
      ],
      "execution_count": null,
      "outputs": [
        {
          "output_type": "execute_result",
          "data": {
            "text/html": [
              "<div>\n",
              "<style scoped>\n",
              "    .dataframe tbody tr th:only-of-type {\n",
              "        vertical-align: middle;\n",
              "    }\n",
              "\n",
              "    .dataframe tbody tr th {\n",
              "        vertical-align: top;\n",
              "    }\n",
              "\n",
              "    .dataframe thead th {\n",
              "        text-align: right;\n",
              "    }\n",
              "</style>\n",
              "<table border=\"1\" class=\"dataframe\">\n",
              "  <thead>\n",
              "    <tr style=\"text-align: right;\">\n",
              "      <th></th>\n",
              "      <th>Microrregion</th>\n",
              "      <th>Departamento</th>\n",
              "      <th>Lee</th>\n",
              "      <th>NoLee x Depto</th>\n",
              "      <th>TotalLee</th>\n",
              "      <th>Poblacion</th>\n",
              "    </tr>\n",
              "  </thead>\n",
              "  <tbody>\n",
              "    <tr>\n",
              "      <th>0</th>\n",
              "      <td>Sur</td>\n",
              "      <td>Apóstoles</td>\n",
              "      <td>31.33</td>\n",
              "      <td>2.92</td>\n",
              "      <td>14470</td>\n",
              "      <td>42249</td>\n",
              "    </tr>\n",
              "    <tr>\n",
              "      <th>1</th>\n",
              "      <td>Centro</td>\n",
              "      <td>Cainguás</td>\n",
              "      <td>31.90</td>\n",
              "      <td>3.64</td>\n",
              "      <td>18981</td>\n",
              "      <td>53403</td>\n",
              "    </tr>\n",
              "    <tr>\n",
              "      <th>2</th>\n",
              "      <td>Sur</td>\n",
              "      <td>Candelaria</td>\n",
              "      <td>31.21</td>\n",
              "      <td>3.35</td>\n",
              "      <td>9346</td>\n",
              "      <td>27040</td>\n",
              "    </tr>\n",
              "    <tr>\n",
              "      <th>3</th>\n",
              "      <td>Sur</td>\n",
              "      <td>Capital</td>\n",
              "      <td>27.87</td>\n",
              "      <td>2.23</td>\n",
              "      <td>97740</td>\n",
              "      <td>324756</td>\n",
              "    </tr>\n",
              "    <tr>\n",
              "      <th>4</th>\n",
              "      <td>Sur</td>\n",
              "      <td>Concepción</td>\n",
              "      <td>32.59</td>\n",
              "      <td>3.13</td>\n",
              "      <td>3421</td>\n",
              "      <td>9577</td>\n",
              "    </tr>\n",
              "    <tr>\n",
              "      <th>5</th>\n",
              "      <td>Alto Parana</td>\n",
              "      <td>Eldorado</td>\n",
              "      <td>29.44</td>\n",
              "      <td>2.83</td>\n",
              "      <td>25360</td>\n",
              "      <td>78581</td>\n",
              "    </tr>\n",
              "    <tr>\n",
              "      <th>6</th>\n",
              "      <td>Nordeste</td>\n",
              "      <td>General Manuel Belgrano</td>\n",
              "      <td>33.18</td>\n",
              "      <td>4.57</td>\n",
              "      <td>16194</td>\n",
              "      <td>42902</td>\n",
              "    </tr>\n",
              "    <tr>\n",
              "      <th>7</th>\n",
              "      <td>Alto Uruguay</td>\n",
              "      <td>Guaraní</td>\n",
              "      <td>32.22</td>\n",
              "      <td>4.64</td>\n",
              "      <td>25027</td>\n",
              "      <td>67897</td>\n",
              "    </tr>\n",
              "    <tr>\n",
              "      <th>8</th>\n",
              "      <td>Alto Parana</td>\n",
              "      <td>Iguazú</td>\n",
              "      <td>30.23</td>\n",
              "      <td>3.16</td>\n",
              "      <td>27457</td>\n",
              "      <td>82227</td>\n",
              "    </tr>\n",
              "    <tr>\n",
              "      <th>9</th>\n",
              "      <td>Centro</td>\n",
              "      <td>Leandro N. Alem</td>\n",
              "      <td>29.11</td>\n",
              "      <td>2.68</td>\n",
              "      <td>14331</td>\n",
              "      <td>45075</td>\n",
              "    </tr>\n",
              "    <tr>\n",
              "      <th>10</th>\n",
              "      <td>Oeste</td>\n",
              "      <td>Libertador General San Martín</td>\n",
              "      <td>30.63</td>\n",
              "      <td>3.19</td>\n",
              "      <td>15745</td>\n",
              "      <td>46561</td>\n",
              "    </tr>\n",
              "    <tr>\n",
              "      <th>11</th>\n",
              "      <td>Oeste</td>\n",
              "      <td>Montecarlo</td>\n",
              "      <td>31.53</td>\n",
              "      <td>2.75</td>\n",
              "      <td>12595</td>\n",
              "      <td>36745</td>\n",
              "    </tr>\n",
              "    <tr>\n",
              "      <th>12</th>\n",
              "      <td>Centro</td>\n",
              "      <td>Oberá</td>\n",
              "      <td>29.84</td>\n",
              "      <td>2.82</td>\n",
              "      <td>35108</td>\n",
              "      <td>107501</td>\n",
              "    </tr>\n",
              "    <tr>\n",
              "      <th>13</th>\n",
              "      <td>Oeste</td>\n",
              "      <td>San Ignacio</td>\n",
              "      <td>31.89</td>\n",
              "      <td>3.38</td>\n",
              "      <td>20356</td>\n",
              "      <td>57728</td>\n",
              "    </tr>\n",
              "    <tr>\n",
              "      <th>14</th>\n",
              "      <td>Sur</td>\n",
              "      <td>San Javier</td>\n",
              "      <td>31.24</td>\n",
              "      <td>3.10</td>\n",
              "      <td>7179</td>\n",
              "      <td>20906</td>\n",
              "    </tr>\n",
              "    <tr>\n",
              "      <th>15</th>\n",
              "      <td>Nordeste</td>\n",
              "      <td>San Pedro</td>\n",
              "      <td>34.10</td>\n",
              "      <td>5.12</td>\n",
              "      <td>12179</td>\n",
              "      <td>31051</td>\n",
              "    </tr>\n",
              "    <tr>\n",
              "      <th>16</th>\n",
              "      <td>Alto Uruguay</td>\n",
              "      <td>25 de Mayo</td>\n",
              "      <td>31.55</td>\n",
              "      <td>3.57</td>\n",
              "      <td>9747</td>\n",
              "      <td>27754</td>\n",
              "    </tr>\n",
              "  </tbody>\n",
              "</table>\n",
              "</div>"
            ],
            "text/plain": [
              "    Microrregion                   Departamento  ...  TotalLee  Poblacion\n",
              "0            Sur                      Apóstoles  ...     14470      42249\n",
              "1         Centro                       Cainguás  ...     18981      53403\n",
              "2            Sur                     Candelaria  ...      9346      27040\n",
              "3            Sur                        Capital  ...     97740     324756\n",
              "4            Sur                     Concepción  ...      3421       9577\n",
              "5    Alto Parana                       Eldorado  ...     25360      78581\n",
              "6       Nordeste        General Manuel Belgrano  ...     16194      42902\n",
              "7   Alto Uruguay                        Guaraní  ...     25027      67897\n",
              "8    Alto Parana                         Iguazú  ...     27457      82227\n",
              "9         Centro                Leandro N. Alem  ...     14331      45075\n",
              "10         Oeste  Libertador General San Martín  ...     15745      46561\n",
              "11         Oeste                     Montecarlo  ...     12595      36745\n",
              "12        Centro                          Oberá  ...     35108     107501\n",
              "13         Oeste                    San Ignacio  ...     20356      57728\n",
              "14           Sur                     San Javier  ...      7179      20906\n",
              "15      Nordeste                      San Pedro  ...     12179      31051\n",
              "16  Alto Uruguay                     25 de Mayo  ...      9747      27754\n",
              "\n",
              "[17 rows x 6 columns]"
            ]
          },
          "metadata": {},
          "execution_count": 528
        }
      ]
    },
    {
      "cell_type": "code",
      "metadata": {
        "colab": {
          "base_uri": "https://localhost:8080/"
        },
        "id": "HUoCYkxSXEAQ",
        "outputId": "e820486e-694b-43ec-f394-d40ecdc19552"
      },
      "source": [
        "pruebat = analisis1[['Microrregion','NoLee x Depto']].sort_values(by='Microrregion')\n",
        "pruebat"
      ],
      "execution_count": null,
      "outputs": [
        {
          "output_type": "execute_result",
          "data": {
            "text/html": [
              "<div>\n",
              "<style scoped>\n",
              "    .dataframe tbody tr th:only-of-type {\n",
              "        vertical-align: middle;\n",
              "    }\n",
              "\n",
              "    .dataframe tbody tr th {\n",
              "        vertical-align: top;\n",
              "    }\n",
              "\n",
              "    .dataframe thead th {\n",
              "        text-align: right;\n",
              "    }\n",
              "</style>\n",
              "<table border=\"1\" class=\"dataframe\">\n",
              "  <thead>\n",
              "    <tr style=\"text-align: right;\">\n",
              "      <th></th>\n",
              "      <th>Microrregion</th>\n",
              "      <th>NoLee x Depto</th>\n",
              "    </tr>\n",
              "  </thead>\n",
              "  <tbody>\n",
              "    <tr>\n",
              "      <th>8</th>\n",
              "      <td>Alto Parana</td>\n",
              "      <td>3.16</td>\n",
              "    </tr>\n",
              "    <tr>\n",
              "      <th>5</th>\n",
              "      <td>Alto Parana</td>\n",
              "      <td>2.83</td>\n",
              "    </tr>\n",
              "    <tr>\n",
              "      <th>7</th>\n",
              "      <td>Alto Uruguay</td>\n",
              "      <td>4.64</td>\n",
              "    </tr>\n",
              "    <tr>\n",
              "      <th>16</th>\n",
              "      <td>Alto Uruguay</td>\n",
              "      <td>3.57</td>\n",
              "    </tr>\n",
              "    <tr>\n",
              "      <th>1</th>\n",
              "      <td>Centro</td>\n",
              "      <td>3.64</td>\n",
              "    </tr>\n",
              "    <tr>\n",
              "      <th>9</th>\n",
              "      <td>Centro</td>\n",
              "      <td>2.68</td>\n",
              "    </tr>\n",
              "    <tr>\n",
              "      <th>12</th>\n",
              "      <td>Centro</td>\n",
              "      <td>2.82</td>\n",
              "    </tr>\n",
              "    <tr>\n",
              "      <th>6</th>\n",
              "      <td>Nordeste</td>\n",
              "      <td>4.57</td>\n",
              "    </tr>\n",
              "    <tr>\n",
              "      <th>15</th>\n",
              "      <td>Nordeste</td>\n",
              "      <td>5.12</td>\n",
              "    </tr>\n",
              "    <tr>\n",
              "      <th>10</th>\n",
              "      <td>Oeste</td>\n",
              "      <td>3.19</td>\n",
              "    </tr>\n",
              "    <tr>\n",
              "      <th>11</th>\n",
              "      <td>Oeste</td>\n",
              "      <td>2.75</td>\n",
              "    </tr>\n",
              "    <tr>\n",
              "      <th>13</th>\n",
              "      <td>Oeste</td>\n",
              "      <td>3.38</td>\n",
              "    </tr>\n",
              "    <tr>\n",
              "      <th>4</th>\n",
              "      <td>Sur</td>\n",
              "      <td>3.13</td>\n",
              "    </tr>\n",
              "    <tr>\n",
              "      <th>2</th>\n",
              "      <td>Sur</td>\n",
              "      <td>3.35</td>\n",
              "    </tr>\n",
              "    <tr>\n",
              "      <th>14</th>\n",
              "      <td>Sur</td>\n",
              "      <td>3.10</td>\n",
              "    </tr>\n",
              "    <tr>\n",
              "      <th>3</th>\n",
              "      <td>Sur</td>\n",
              "      <td>2.23</td>\n",
              "    </tr>\n",
              "    <tr>\n",
              "      <th>0</th>\n",
              "      <td>Sur</td>\n",
              "      <td>2.92</td>\n",
              "    </tr>\n",
              "  </tbody>\n",
              "</table>\n",
              "</div>"
            ],
            "text/plain": [
              "    Microrregion  NoLee x Depto\n",
              "8    Alto Parana           3.16\n",
              "5    Alto Parana           2.83\n",
              "7   Alto Uruguay           4.64\n",
              "16  Alto Uruguay           3.57\n",
              "1         Centro           3.64\n",
              "9         Centro           2.68\n",
              "12        Centro           2.82\n",
              "6       Nordeste           4.57\n",
              "15      Nordeste           5.12\n",
              "10         Oeste           3.19\n",
              "11         Oeste           2.75\n",
              "13         Oeste           3.38\n",
              "4            Sur           3.13\n",
              "2            Sur           3.35\n",
              "14           Sur           3.10\n",
              "3            Sur           2.23\n",
              "0            Sur           2.92"
            ]
          },
          "metadata": {},
          "execution_count": 529
        }
      ]
    },
    {
      "cell_type": "code",
      "metadata": {
        "id": "6g9hyL-wviKG"
      },
      "source": [
        "alto_parana = np.array(pruebat.iloc[:2])\n",
        "alto_parana = np.delete(alto_parana, 0, axis=1)\n",
        "alto_parana = np.array(alto_parana).tolist()\n",
        "\n",
        "alto_uruguay = np.array(pruebat.iloc[2:4])\n",
        "alto_uruguay = np.delete(alto_uruguay, 0, axis=1)\n",
        "alto_uruguay = np.array(alto_uruguay).tolist()\n",
        "\n",
        "centro = np.array(pruebat.iloc[4:7])\n",
        "centro = np.delete(centro, 0, axis=1)\n",
        "centro = np.array(centro).tolist()\n",
        "\n",
        "nordeste = np.array(pruebat.iloc[7:9])\n",
        "nordeste = np.delete(nordeste, 0, axis=1)\n",
        "nordeste = np.array(nordeste).tolist()\n",
        "\n",
        "oeste = np.array(pruebat.iloc[9:12])\n",
        "oeste = np.delete(oeste, 0, axis=1)\n",
        "oeste = np.array(oeste).tolist()\n",
        "\n",
        "sur = np.array(pruebat.iloc[12:])\n",
        "sur = np.delete(sur, 0, axis=1)\n",
        "sur = np.array(sur).tolist()"
      ],
      "execution_count": null,
      "outputs": []
    },
    {
      "cell_type": "code",
      "metadata": {
        "colab": {
          "base_uri": "https://localhost:8080/"
        },
        "id": "hnpnELG4LXGY",
        "outputId": "e9227883-d163-4b60-f2f9-289c4424b6e4"
      },
      "source": [
        "medias1 = [np.mean(alto_parana),np.mean(alto_uruguay),np.mean(centro),np.mean(nordeste),np.mean(oeste),np.mean(sur)]\n",
        "medias1"
      ],
      "execution_count": null,
      "outputs": [
        {
          "output_type": "execute_result",
          "data": {
            "text/plain": [
              "[2.995,\n",
              " 4.1049999999999995,\n",
              " 3.046666666666667,\n",
              " 4.845000000000001,\n",
              " 3.106666666666667,\n",
              " 2.946]"
            ]
          },
          "metadata": {},
          "execution_count": 531
        }
      ]
    },
    {
      "cell_type": "markdown",
      "metadata": {
        "id": "ckEJup7v5OnK"
      },
      "source": [
        "###Pruebas T"
      ]
    },
    {
      "cell_type": "markdown",
      "metadata": {
        "id": "H_AdwHcVjeqb"
      },
      "source": [
        "#### Alto Parana - Alto Uruguay"
      ]
    },
    {
      "cell_type": "code",
      "metadata": {
        "colab": {
          "base_uri": "https://localhost:8080/"
        },
        "id": "3TyNpqyij5Zc",
        "outputId": "77582bee-8300-4a6e-f146-1e7d6c6b3049"
      },
      "source": [
        "# Testeamos varianza\n",
        "print(np.var(alto_uruguay), np.var(alto_parana))"
      ],
      "execution_count": null,
      "outputs": [
        {
          "output_type": "stream",
          "name": "stdout",
          "text": [
            "0.28622499999999995 0.027225000000000013\n"
          ]
        }
      ]
    },
    {
      "cell_type": "code",
      "metadata": {
        "colab": {
          "base_uri": "https://localhost:8080/"
        },
        "id": "VYLkaf7wj-Bz",
        "outputId": "66c46ec7-3d84-44f3-c298-fe416b3d7f19"
      },
      "source": [
        "if 0.28905272562086937 / 0.026501261276316385 > 2:\n",
        "  print('El ratio de las varianzas es mayor a 2, utilizar equal_var = False')\n",
        "else:\n",
        "  print('Las varianzas son similares, utilizar equal_var = True')\n"
      ],
      "execution_count": null,
      "outputs": [
        {
          "output_type": "stream",
          "name": "stdout",
          "text": [
            "El ratio de las varianzas es mayor a 2, utilizar equal_var = False\n"
          ]
        }
      ]
    },
    {
      "cell_type": "code",
      "metadata": {
        "colab": {
          "base_uri": "https://localhost:8080/"
        },
        "id": "O-Idyv4Cv6RG",
        "outputId": "962c8bc2-34f0-4574-c172-f22802e17c33"
      },
      "source": [
        "# H0: alto_uruguay >= alto_parana\n",
        "# H1: alto_uruguay < alto_parana\n",
        "pruebat = stats.ttest_ind(alto_parana, alto_uruguay, equal_var=False)\n",
        "pvalor1 = float(pruebat[1]/2)\n",
        "if pruebat[1] / 2 > 0.05:\n",
        "  print('No puedo rechazar H0')\n",
        "else:\n",
        "  print('Hay evidencia para rechazar H0')"
      ],
      "execution_count": null,
      "outputs": [
        {
          "output_type": "stream",
          "name": "stdout",
          "text": [
            "No puedo rechazar H0\n"
          ]
        }
      ]
    },
    {
      "cell_type": "markdown",
      "metadata": {
        "id": "o6gFSe4Nksv_"
      },
      "source": [
        "#### Alto Parana - Centro"
      ]
    },
    {
      "cell_type": "code",
      "metadata": {
        "colab": {
          "base_uri": "https://localhost:8080/"
        },
        "id": "S4vuRl5_kxRY",
        "outputId": "e403918f-9c1e-4916-ac4f-ba840c9a944f"
      },
      "source": [
        "# Testeamos varianza\n",
        "print(np.var(centro), np.var(alto_parana))"
      ],
      "execution_count": null,
      "outputs": [
        {
          "output_type": "stream",
          "name": "stdout",
          "text": [
            "0.17928888888888894 0.027225000000000013\n"
          ]
        }
      ]
    },
    {
      "cell_type": "code",
      "metadata": {
        "colab": {
          "base_uri": "https://localhost:8080/"
        },
        "id": "VcnRuYxWlUZN",
        "outputId": "93150a59-51a9-42b4-c478-bbcff1c728a1"
      },
      "source": [
        "if 0.17778854539776914  / 0.026501261276316385 > 2:\n",
        "  print('El ratio de las varianzas es mayor a 2, utilizar equal_var = False')\n",
        "else:\n",
        "  print('Las varianzas son similares, utilizar equal_var = True')"
      ],
      "execution_count": null,
      "outputs": [
        {
          "output_type": "stream",
          "name": "stdout",
          "text": [
            "El ratio de las varianzas es mayor a 2, utilizar equal_var = False\n"
          ]
        }
      ]
    },
    {
      "cell_type": "code",
      "metadata": {
        "id": "ZekU-6RpLTiR",
        "colab": {
          "base_uri": "https://localhost:8080/"
        },
        "outputId": "64e3be32-52b7-4419-ad7b-b5d0091643b3"
      },
      "source": [
        "# H0: centro >= alto_parana\n",
        "# H1: centro < alto_parana\n",
        "pruebat = stats.ttest_ind(alto_parana, centro, equal_var=False)\n",
        "pvalor2 = float(pruebat[1]/2)\n",
        "if pruebat[1] / 2 > 0.05:\n",
        "  print('No puedo rechazar H0')\n",
        "else:\n",
        "  print('Hay evidencia para rechazar H0')"
      ],
      "execution_count": null,
      "outputs": [
        {
          "output_type": "stream",
          "name": "stdout",
          "text": [
            "No puedo rechazar H0\n"
          ]
        }
      ]
    },
    {
      "cell_type": "markdown",
      "metadata": {
        "id": "jGK4qFcIsZs3"
      },
      "source": [
        "#### Alto Parana - Nordeste"
      ]
    },
    {
      "cell_type": "code",
      "metadata": {
        "colab": {
          "base_uri": "https://localhost:8080/"
        },
        "id": "IDiXtMO6sdqC",
        "outputId": "8cac6d00-ec53-4bc0-a770-c3e9c02448ee"
      },
      "source": [
        "# Testeamos varianza\n",
        "print(np.var(nordeste), np.var(alto_parana))"
      ],
      "execution_count": null,
      "outputs": [
        {
          "output_type": "stream",
          "name": "stdout",
          "text": [
            "0.07562499999999994 0.027225000000000013\n"
          ]
        }
      ]
    },
    {
      "cell_type": "code",
      "metadata": {
        "colab": {
          "base_uri": "https://localhost:8080/"
        },
        "id": "z4scK2Onsfta",
        "outputId": "37ddd62a-20d1-419f-a009-3a9f10d89df2"
      },
      "source": [
        "if 0.07773162891086295 / 0.026501261276316385 > 2:\n",
        "  print('El ratio de las varianzas es mayor a 2, utilizar equal_var = False')\n",
        "else:\n",
        "  print('Las varianzas son similares, utilizar equal_var = True')"
      ],
      "execution_count": null,
      "outputs": [
        {
          "output_type": "stream",
          "name": "stdout",
          "text": [
            "El ratio de las varianzas es mayor a 2, utilizar equal_var = False\n"
          ]
        }
      ]
    },
    {
      "cell_type": "code",
      "metadata": {
        "colab": {
          "base_uri": "https://localhost:8080/"
        },
        "id": "hSdIEjUjYYIY",
        "outputId": "e9b0a2c5-4321-4c24-f59d-67d5ab59c821"
      },
      "source": [
        "# H0: nordeste >= alto_parana\n",
        "# H1: nordeste < alto_parana\n",
        "pruebat = stats.ttest_ind(alto_parana, nordeste, equal_var=False)\n",
        "pvalor3 = float(pruebat[1]/2)\n",
        "if pruebat[1] / 2 > 0.05:\n",
        "  print('No puedo rechazar H0')\n",
        "else:\n",
        "  print('Hay evidencia para rechazar H0')"
      ],
      "execution_count": null,
      "outputs": [
        {
          "output_type": "stream",
          "name": "stdout",
          "text": [
            "Hay evidencia para rechazar H0\n"
          ]
        }
      ]
    },
    {
      "cell_type": "markdown",
      "metadata": {
        "id": "wSXWGqL8svyo"
      },
      "source": [
        "#### Alto Parana - Oeste"
      ]
    },
    {
      "cell_type": "code",
      "metadata": {
        "colab": {
          "base_uri": "https://localhost:8080/"
        },
        "id": "J6fxsxTxsydK",
        "outputId": "801e5d58-4ea0-4f47-ec34-e2a5042b28c6"
      },
      "source": [
        "# Testeamos varianza\n",
        "print(np.var(oeste), np.var(alto_parana))"
      ],
      "execution_count": null,
      "outputs": [
        {
          "output_type": "stream",
          "name": "stdout",
          "text": [
            "0.0696222222222222 0.027225000000000013\n"
          ]
        }
      ]
    },
    {
      "cell_type": "code",
      "metadata": {
        "colab": {
          "base_uri": "https://localhost:8080/"
        },
        "id": "j72Hev9_s2Pw",
        "outputId": "f7f73cca-86ff-48ae-fe54-735efeef94b5"
      },
      "source": [
        "if 0.06896955016988404 / 0.026501261276316385 > 2:\n",
        "  print('El ratio de las varianzas es mayor a 2, utilizar equal_var = False')\n",
        "else:\n",
        "  print('Las varianzas son similares, utilizar equal_var = True')"
      ],
      "execution_count": null,
      "outputs": [
        {
          "output_type": "stream",
          "name": "stdout",
          "text": [
            "El ratio de las varianzas es mayor a 2, utilizar equal_var = False\n"
          ]
        }
      ]
    },
    {
      "cell_type": "code",
      "metadata": {
        "colab": {
          "base_uri": "https://localhost:8080/"
        },
        "id": "CRHUAQXdYnbZ",
        "outputId": "c8876d20-eb08-4d2d-ff32-b26ac2405ed5"
      },
      "source": [
        "# H0: oeste >= alto_parana\n",
        "# H1: oeste < alto_parana\n",
        "pruebat = stats.ttest_ind(alto_parana, oeste, equal_var=False)\n",
        "pvalor4 = float(pruebat[1]/2)\n",
        "if pruebat[1] / 2 > 0.05:\n",
        "  print('No puedo rechazar H0')\n",
        "else:\n",
        "  print('Hay evidencia para rechazar H0')"
      ],
      "execution_count": null,
      "outputs": [
        {
          "output_type": "stream",
          "name": "stdout",
          "text": [
            "No puedo rechazar H0\n"
          ]
        }
      ]
    },
    {
      "cell_type": "markdown",
      "metadata": {
        "id": "0XKE2XKutZx6"
      },
      "source": [
        "#### Alto Parana - Sur"
      ]
    },
    {
      "cell_type": "code",
      "metadata": {
        "colab": {
          "base_uri": "https://localhost:8080/"
        },
        "id": "t8pTxy2Dtc8V",
        "outputId": "0a4a9a33-d281-4cc6-a0a9-0d6eaed34025"
      },
      "source": [
        "# Testeamos varianza\n",
        "print(np.var(sur), np.var(alto_parana))"
      ],
      "execution_count": null,
      "outputs": [
        {
          "output_type": "stream",
          "name": "stdout",
          "text": [
            "0.146824 0.027225000000000013\n"
          ]
        }
      ]
    },
    {
      "cell_type": "code",
      "metadata": {
        "colab": {
          "base_uri": "https://localhost:8080/"
        },
        "id": "1O2-hxVJtfQi",
        "outputId": "f8ae8211-3bcc-427f-f8f1-c480895c1d4e"
      },
      "source": [
        "if 0.14696477940164182 / 0.026501261276316385 > 2:\n",
        "  print('El ratio de las varianzas es mayor a 2, utilizar equal_var = False')\n",
        "else:\n",
        "  print('Las varianzas son similares, utilizar equal_var = True')"
      ],
      "execution_count": null,
      "outputs": [
        {
          "output_type": "stream",
          "name": "stdout",
          "text": [
            "El ratio de las varianzas es mayor a 2, utilizar equal_var = False\n"
          ]
        }
      ]
    },
    {
      "cell_type": "code",
      "metadata": {
        "colab": {
          "base_uri": "https://localhost:8080/"
        },
        "id": "qpfVnT-YYt-o",
        "outputId": "5c4fecf4-afbc-429c-cc7b-cf53da270239"
      },
      "source": [
        "# H0: sur >= alto_parana\n",
        "# H1: sur < alto_parana\n",
        "pruebat = stats.ttest_ind(alto_parana, sur, equal_var=False)\n",
        "pvalor5 = float(pruebat[1]/2)\n",
        "if pruebat[1] / 2 > 0.05:\n",
        "  print('No puedo rechazar H0')\n",
        "else:\n",
        "  print('Hay evidencia para rechazar H0')"
      ],
      "execution_count": null,
      "outputs": [
        {
          "output_type": "stream",
          "name": "stdout",
          "text": [
            "No puedo rechazar H0\n"
          ]
        }
      ]
    },
    {
      "cell_type": "markdown",
      "metadata": {
        "id": "-jPqygPptqT6"
      },
      "source": [
        "#### Alto Uruguay - Centro"
      ]
    },
    {
      "cell_type": "code",
      "metadata": {
        "colab": {
          "base_uri": "https://localhost:8080/"
        },
        "id": "ky9m7xb7ttDa",
        "outputId": "5f9647ab-8cff-4033-ff7b-18244f1adfac"
      },
      "source": [
        "# Testeamos varianza\n",
        "print(np.var(centro), np.var(alto_uruguay))"
      ],
      "execution_count": null,
      "outputs": [
        {
          "output_type": "stream",
          "name": "stdout",
          "text": [
            "0.17928888888888894 0.28622499999999995\n"
          ]
        }
      ]
    },
    {
      "cell_type": "code",
      "metadata": {
        "colab": {
          "base_uri": "https://localhost:8080/"
        },
        "id": "78PTZbbAttKE",
        "outputId": "c3c940a6-2864-4f19-ba48-2a0597bd8992"
      },
      "source": [
        "if 0.28905272562086937 / 0.17778854539776914 > 2:\n",
        "  print('El ratio de las varianzas es mayor a 2, utilizar equal_var = False')\n",
        "else:\n",
        "  print('Las varianzas son similares, utilizar equal_var = True')"
      ],
      "execution_count": null,
      "outputs": [
        {
          "output_type": "stream",
          "name": "stdout",
          "text": [
            "Las varianzas son similares, utilizar equal_var = True\n"
          ]
        }
      ]
    },
    {
      "cell_type": "code",
      "metadata": {
        "colab": {
          "base_uri": "https://localhost:8080/"
        },
        "id": "eL5MhPtzY6GZ",
        "outputId": "8930f076-cce5-4535-9a0a-1f2e17cb93e4"
      },
      "source": [
        "# H0: centro >= alto_uruguay\n",
        "# H1: centro < alto_uruguay\n",
        "pruebat = stats.ttest_ind(alto_uruguay, centro, equal_var=True)\n",
        "pvalor6 = float(pruebat[1]/2)\n",
        "if pruebat[1] / 2 > 0.05:\n",
        "  print('No puedo rechazar H0')\n",
        "else:\n",
        "  print('Hay evidencia para rechazar H0')"
      ],
      "execution_count": null,
      "outputs": [
        {
          "output_type": "stream",
          "name": "stdout",
          "text": [
            "No puedo rechazar H0\n"
          ]
        }
      ]
    },
    {
      "cell_type": "markdown",
      "metadata": {
        "id": "umPSUBrMuBQx"
      },
      "source": [
        "#### Alto Uruguay - Nordeste"
      ]
    },
    {
      "cell_type": "code",
      "metadata": {
        "colab": {
          "base_uri": "https://localhost:8080/"
        },
        "id": "GXoOejjwuDMp",
        "outputId": "3701377c-77ad-4eca-f035-4a14c7025a1d"
      },
      "source": [
        "# Testeamos varianza\n",
        "print(np.var(nordeste), np.var(alto_uruguay))"
      ],
      "execution_count": null,
      "outputs": [
        {
          "output_type": "stream",
          "name": "stdout",
          "text": [
            "0.07562499999999994 0.28622499999999995\n"
          ]
        }
      ]
    },
    {
      "cell_type": "code",
      "metadata": {
        "colab": {
          "base_uri": "https://localhost:8080/"
        },
        "id": "9BH1xYmAuDO7",
        "outputId": "fbdd9f9e-35da-4eb5-a935-806b3bc74d11"
      },
      "source": [
        "if 0.28905272562086937 / 0.07773162891086295 > 2:\n",
        "  print('El ratio de las varianzas es mayor a 2, utilizar equal_var = False')\n",
        "else:\n",
        "  print('Las varianzas son similares, utilizar equal_var = True')"
      ],
      "execution_count": null,
      "outputs": [
        {
          "output_type": "stream",
          "name": "stdout",
          "text": [
            "El ratio de las varianzas es mayor a 2, utilizar equal_var = False\n"
          ]
        }
      ]
    },
    {
      "cell_type": "code",
      "metadata": {
        "colab": {
          "base_uri": "https://localhost:8080/"
        },
        "id": "4DF47oavZFRp",
        "outputId": "5c92ed8f-9f10-48fe-ccb0-f3efdc93f295"
      },
      "source": [
        "# H0: nordeste >= alto_uruguay\n",
        "# H1: nordeste < alto_uruguay\n",
        "pruebat = stats.ttest_ind(alto_uruguay, nordeste, equal_var=False)\n",
        "pvalor7 = float(pruebat[1]/2)\n",
        "if pruebat[1] / 2 > 0.05:\n",
        "  print('No puedo rechazar H0')\n",
        "else:\n",
        "  print('Hay evidencia para rechazar H0')"
      ],
      "execution_count": null,
      "outputs": [
        {
          "output_type": "stream",
          "name": "stdout",
          "text": [
            "No puedo rechazar H0\n"
          ]
        }
      ]
    },
    {
      "cell_type": "markdown",
      "metadata": {
        "id": "XI7QDCf1vhv1"
      },
      "source": [
        "#### Alto Uruguay - Oeste"
      ]
    },
    {
      "cell_type": "code",
      "metadata": {
        "colab": {
          "base_uri": "https://localhost:8080/"
        },
        "id": "eiC_VZCrvlkF",
        "outputId": "4c6f6460-ddab-4e19-d147-7dbddf62141f"
      },
      "source": [
        "# Testeamos varianza\n",
        "print(np.var(oeste), np.var(alto_uruguay))"
      ],
      "execution_count": null,
      "outputs": [
        {
          "output_type": "stream",
          "name": "stdout",
          "text": [
            "0.0696222222222222 0.28622499999999995\n"
          ]
        }
      ]
    },
    {
      "cell_type": "code",
      "metadata": {
        "colab": {
          "base_uri": "https://localhost:8080/"
        },
        "id": "qYgEBvA6vlml",
        "outputId": "899af62a-251f-4985-ad98-6da328e97498"
      },
      "source": [
        "if 0.28905272562086937 / 0.06896955016988404 > 2:\n",
        "  print('El ratio de las varianzas es mayor a 2, utilizar equal_var = False')\n",
        "else:\n",
        "  print('Las varianzas son similares, utilizar equal_var = True')"
      ],
      "execution_count": null,
      "outputs": [
        {
          "output_type": "stream",
          "name": "stdout",
          "text": [
            "El ratio de las varianzas es mayor a 2, utilizar equal_var = False\n"
          ]
        }
      ]
    },
    {
      "cell_type": "code",
      "metadata": {
        "colab": {
          "base_uri": "https://localhost:8080/"
        },
        "id": "yRBBdk61ZM0b",
        "outputId": "6c32eaca-eaa6-43e6-e1d6-1233c9d6402d"
      },
      "source": [
        "# H0: oeste >= alto_uruguay\n",
        "# H1: oeste < alto_uruguay\n",
        "pruebat = stats.ttest_ind(alto_uruguay, oeste, equal_var=False)\n",
        "pvalor8 = float(pruebat[1]/2)\n",
        "if pruebat[1] / 2 > 0.05:\n",
        "  print('No puedo rechazar H0')\n",
        "else:\n",
        "  print('Hay evidencia para rechazar H0')"
      ],
      "execution_count": null,
      "outputs": [
        {
          "output_type": "stream",
          "name": "stdout",
          "text": [
            "No puedo rechazar H0\n"
          ]
        }
      ]
    },
    {
      "cell_type": "markdown",
      "metadata": {
        "id": "qKrB2Labv1PE"
      },
      "source": [
        "#### Alto Uruguay - Sur"
      ]
    },
    {
      "cell_type": "code",
      "metadata": {
        "colab": {
          "base_uri": "https://localhost:8080/"
        },
        "id": "1QYMc9PJv4G2",
        "outputId": "b19311da-30fe-4c12-ecd0-d4583fca3526"
      },
      "source": [
        "# Testeamos varianza\n",
        "print(np.var(sur), np.var(alto_uruguay))"
      ],
      "execution_count": null,
      "outputs": [
        {
          "output_type": "stream",
          "name": "stdout",
          "text": [
            "0.146824 0.28622499999999995\n"
          ]
        }
      ]
    },
    {
      "cell_type": "code",
      "metadata": {
        "colab": {
          "base_uri": "https://localhost:8080/"
        },
        "id": "9ZJ7bhyov4j-",
        "outputId": "d01773a6-d287-4d3d-ec3a-2e7089602f87"
      },
      "source": [
        "if 0.28905272562086937 / 0.14696477940164182 > 2:\n",
        "  print('El ratio de las varianzas es mayor a 2, utilizar equal_var = False')\n",
        "else:\n",
        "  print('Las varianzas son similares, utilizar equal_var = True')"
      ],
      "execution_count": null,
      "outputs": [
        {
          "output_type": "stream",
          "name": "stdout",
          "text": [
            "Las varianzas son similares, utilizar equal_var = True\n"
          ]
        }
      ]
    },
    {
      "cell_type": "code",
      "metadata": {
        "colab": {
          "base_uri": "https://localhost:8080/"
        },
        "id": "Qe-QRu61ZVYS",
        "outputId": "9ac81024-3739-478e-b386-c3afb7e14fd2"
      },
      "source": [
        "# H0: sur >= alto_uruguay\n",
        "# H1: sur < alto_uruguay\n",
        "pruebat = stats.ttest_ind(alto_uruguay, sur, equal_var=True)\n",
        "pvalor9 = float(pruebat[1]/2)\n",
        "if pruebat[1] / 2 > 0.05:\n",
        "  print('No puedo rechazar H0')\n",
        "else:\n",
        "  print('Hay evidencia para rechazar H0')"
      ],
      "execution_count": null,
      "outputs": [
        {
          "output_type": "stream",
          "name": "stdout",
          "text": [
            "Hay evidencia para rechazar H0\n"
          ]
        }
      ]
    },
    {
      "cell_type": "markdown",
      "metadata": {
        "id": "tseTf--awHBJ"
      },
      "source": [
        "#### Centro - Nordeste"
      ]
    },
    {
      "cell_type": "code",
      "metadata": {
        "colab": {
          "base_uri": "https://localhost:8080/"
        },
        "id": "mg7D1xKLwI9W",
        "outputId": "bcb4b6c5-497b-457c-8546-34882fecd7c4"
      },
      "source": [
        "# Testeamos varianza\n",
        "print(np.var(nordeste), np.var(centro))"
      ],
      "execution_count": null,
      "outputs": [
        {
          "output_type": "stream",
          "name": "stdout",
          "text": [
            "0.07562499999999994 0.17928888888888894\n"
          ]
        }
      ]
    },
    {
      "cell_type": "code",
      "metadata": {
        "colab": {
          "base_uri": "https://localhost:8080/"
        },
        "id": "TH4LMOB2wNkX",
        "outputId": "c9937816-5fe9-474c-d825-ad497467378a"
      },
      "source": [
        "if 0.17778854539776914 / 0.07773162891086295 > 2:\n",
        "  print('El ratio de las varianzas es mayor a 2, utilizar equal_var = False')\n",
        "else:\n",
        "  print('Las varianzas son similares, utilizar equal_var = True')"
      ],
      "execution_count": null,
      "outputs": [
        {
          "output_type": "stream",
          "name": "stdout",
          "text": [
            "El ratio de las varianzas es mayor a 2, utilizar equal_var = False\n"
          ]
        }
      ]
    },
    {
      "cell_type": "code",
      "metadata": {
        "colab": {
          "base_uri": "https://localhost:8080/"
        },
        "id": "iEtycJ9eZZ-v",
        "outputId": "c5f287a2-cd79-4a73-e451-012d7f11d43c"
      },
      "source": [
        "# H0: nordeste >= centro\n",
        "# H1: nordeste < centro\n",
        "pruebat = stats.ttest_ind(centro, nordeste, equal_var=False)\n",
        "pvalor10 = float(pruebat[1]/2)\n",
        "if pruebat[1] / 2 > 0.05:\n",
        "  print('No puedo rechazar H0')\n",
        "else:\n",
        "  print('Hay evidencia para rechazar H0')"
      ],
      "execution_count": null,
      "outputs": [
        {
          "output_type": "stream",
          "name": "stdout",
          "text": [
            "Hay evidencia para rechazar H0\n"
          ]
        }
      ]
    },
    {
      "cell_type": "markdown",
      "metadata": {
        "id": "KYuajaLCwjI-"
      },
      "source": [
        "#### Centro - Oeste"
      ]
    },
    {
      "cell_type": "code",
      "metadata": {
        "colab": {
          "base_uri": "https://localhost:8080/"
        },
        "id": "jZjfRRMAwnEY",
        "outputId": "2bab14a2-7bba-4b80-e57c-d0a4a10fc5f9"
      },
      "source": [
        "# Testeamos varianza\n",
        "print(np.var(oeste), np.var(centro))"
      ],
      "execution_count": null,
      "outputs": [
        {
          "output_type": "stream",
          "name": "stdout",
          "text": [
            "0.0696222222222222 0.17928888888888894\n"
          ]
        }
      ]
    },
    {
      "cell_type": "code",
      "metadata": {
        "colab": {
          "base_uri": "https://localhost:8080/"
        },
        "id": "XJGYPmwqwnHA",
        "outputId": "1f7b6cfb-8e3e-4005-e705-6af5096fac8c"
      },
      "source": [
        "if 0.17778854539776914 / 0.06896955016988404 > 2:\n",
        "  print('El ratio de las varianzas es mayor a 2, utilizar equal_var = False')\n",
        "else:\n",
        "  print('Las varianzas son similares, utilizar equal_var = True')"
      ],
      "execution_count": null,
      "outputs": [
        {
          "output_type": "stream",
          "name": "stdout",
          "text": [
            "El ratio de las varianzas es mayor a 2, utilizar equal_var = False\n"
          ]
        }
      ]
    },
    {
      "cell_type": "code",
      "metadata": {
        "colab": {
          "base_uri": "https://localhost:8080/"
        },
        "id": "h2ZbVf8OZqWm",
        "outputId": "f19ab73e-006a-4c6a-c11d-3e3a6997aa79"
      },
      "source": [
        "# H0: oeste >= centro\n",
        "# H1: oeste < centro\n",
        "pruebat = stats.ttest_ind(centro, oeste, equal_var=False)\n",
        "pvalor11 = float(pruebat[1]/2)\n",
        "if pruebat[1] / 2 > 0.05:\n",
        "  print('No puedo rechazar H0')\n",
        "else:\n",
        "  print('Hay evidencia para rechazar H0')"
      ],
      "execution_count": null,
      "outputs": [
        {
          "output_type": "stream",
          "name": "stdout",
          "text": [
            "No puedo rechazar H0\n"
          ]
        }
      ]
    },
    {
      "cell_type": "markdown",
      "metadata": {
        "id": "QHV-HImo25HK"
      },
      "source": [
        "#### Centro - Sur"
      ]
    },
    {
      "cell_type": "code",
      "metadata": {
        "colab": {
          "base_uri": "https://localhost:8080/"
        },
        "id": "VTU-J1mj27pn",
        "outputId": "56b68aac-78fd-4ec4-f195-2f6f88ea4dbc"
      },
      "source": [
        "# Testeamos varianza\n",
        "print(np.var(sur), np.var(centro))"
      ],
      "execution_count": null,
      "outputs": [
        {
          "output_type": "stream",
          "name": "stdout",
          "text": [
            "0.146824 0.17928888888888894\n"
          ]
        }
      ]
    },
    {
      "cell_type": "code",
      "metadata": {
        "colab": {
          "base_uri": "https://localhost:8080/"
        },
        "id": "seRDYd-v283A",
        "outputId": "7d22b900-db46-42f9-8353-65203f229ed1"
      },
      "source": [
        "if 0.17778854539776914 / 0.14696477940164182 > 2:\n",
        "  print('El ratio de las varianzas es mayor a 2, utilizar equal_var = False')\n",
        "else:\n",
        "  print('Las varianzas son similares, utilizar equal_var = True')"
      ],
      "execution_count": null,
      "outputs": [
        {
          "output_type": "stream",
          "name": "stdout",
          "text": [
            "Las varianzas son similares, utilizar equal_var = True\n"
          ]
        }
      ]
    },
    {
      "cell_type": "code",
      "metadata": {
        "colab": {
          "base_uri": "https://localhost:8080/"
        },
        "id": "lHcQrkgd285-",
        "outputId": "59c8bdb8-dad5-4016-b87f-bde9f357f2b7"
      },
      "source": [
        "# H0: sur >= centro\n",
        "# H1: sur < centro\n",
        "pruebat = stats.ttest_ind(centro, sur, equal_var=True)\n",
        "pvalor13 = float(pruebat[1]/2)\n",
        "if pruebat[1] / 2 > 0.05:\n",
        "  print('No puedo rechazar H0')\n",
        "else:\n",
        "  print('Hay evidencia para rechazar H0')"
      ],
      "execution_count": null,
      "outputs": [
        {
          "output_type": "stream",
          "name": "stdout",
          "text": [
            "No puedo rechazar H0\n"
          ]
        }
      ]
    },
    {
      "cell_type": "markdown",
      "metadata": {
        "id": "VndCv83VwySQ"
      },
      "source": [
        "#### Nordeste - Oeste"
      ]
    },
    {
      "cell_type": "code",
      "metadata": {
        "colab": {
          "base_uri": "https://localhost:8080/"
        },
        "id": "kw0pU4F9wz9H",
        "outputId": "1e738c45-a71b-4068-c71d-b74249ecdff7"
      },
      "source": [
        "# Testeamos varianza\n",
        "print(np.var(oeste), np.var(nordeste))"
      ],
      "execution_count": null,
      "outputs": [
        {
          "output_type": "stream",
          "name": "stdout",
          "text": [
            "0.0696222222222222 0.07562499999999994\n"
          ]
        }
      ]
    },
    {
      "cell_type": "code",
      "metadata": {
        "colab": {
          "base_uri": "https://localhost:8080/"
        },
        "id": "Bvz7osMIw3Mf",
        "outputId": "aec31b35-60c3-455b-91db-6288ea077065"
      },
      "source": [
        "if 0.07773162891086295 / 0.06896955016988404 > 2:\n",
        "  print('El ratio de las varianzas es mayor a 2, utilizar equal_var = False')\n",
        "else:\n",
        "  print('Las varianzas son similares, utilizar equal_var = True')"
      ],
      "execution_count": null,
      "outputs": [
        {
          "output_type": "stream",
          "name": "stdout",
          "text": [
            "Las varianzas son similares, utilizar equal_var = True\n"
          ]
        }
      ]
    },
    {
      "cell_type": "code",
      "metadata": {
        "colab": {
          "base_uri": "https://localhost:8080/"
        },
        "id": "vRLnFX8TZzdf",
        "outputId": "78c39366-9e4f-4e28-baf8-89fa6cc38015"
      },
      "source": [
        "# H0: oeste >= nordeste\n",
        "# H1: oeste < nordeste\n",
        "pruebat = stats.ttest_ind(nordeste, oeste, equal_var=True)\n",
        "pvalor12 = float(pruebat[1]/2)\n",
        "if pruebat[1] / 2 > 0.05:\n",
        "  print('No puedo rechazar H0')\n",
        "else:\n",
        "  print('Hay evidencia para rechazar H0')"
      ],
      "execution_count": null,
      "outputs": [
        {
          "output_type": "stream",
          "name": "stdout",
          "text": [
            "Hay evidencia para rechazar H0\n"
          ]
        }
      ]
    },
    {
      "cell_type": "markdown",
      "metadata": {
        "id": "MQ4F9Jvm3Q3Q"
      },
      "source": [
        "#### Nordeste - Sur"
      ]
    },
    {
      "cell_type": "code",
      "metadata": {
        "colab": {
          "base_uri": "https://localhost:8080/"
        },
        "id": "skczx8Cs3SfY",
        "outputId": "e9b42ba3-17a9-4a97-acff-93c5e873d45f"
      },
      "source": [
        "# Testeamos varianza\n",
        "print(np.var(sur), np.var(nordeste))"
      ],
      "execution_count": null,
      "outputs": [
        {
          "output_type": "stream",
          "name": "stdout",
          "text": [
            "0.146824 0.07562499999999994\n"
          ]
        }
      ]
    },
    {
      "cell_type": "code",
      "metadata": {
        "colab": {
          "base_uri": "https://localhost:8080/"
        },
        "id": "xxof4zib3UKC",
        "outputId": "c8871900-05fc-4a05-a04b-15abb1b7ab06"
      },
      "source": [
        "if 0.14696477940164182 / 0.07773162891086295 > 2:\n",
        "  print('El ratio de las varianzas es mayor a 2, utilizar equal_var = False')\n",
        "else:\n",
        "  print('Las varianzas son similares, utilizar equal_var = True')"
      ],
      "execution_count": null,
      "outputs": [
        {
          "output_type": "stream",
          "name": "stdout",
          "text": [
            "Las varianzas son similares, utilizar equal_var = True\n"
          ]
        }
      ]
    },
    {
      "cell_type": "code",
      "metadata": {
        "colab": {
          "base_uri": "https://localhost:8080/"
        },
        "id": "8KBb5LnX3Yfp",
        "outputId": "bfd454e9-191d-4235-adc2-2ad5283938e9"
      },
      "source": [
        "# H0: sur >= nordeste\n",
        "# H1: sur < nordeste\n",
        "pruebat = stats.ttest_ind(nordeste, sur, equal_var=True)\n",
        "pvalor14 = float(pruebat[1]/2)\n",
        "if pruebat[1] / 2 > 0.05:\n",
        "  print('No puedo rechazar H0')\n",
        "else:\n",
        "  print('Hay evidencia para rechazar H0')"
      ],
      "execution_count": null,
      "outputs": [
        {
          "output_type": "stream",
          "name": "stdout",
          "text": [
            "Hay evidencia para rechazar H0\n"
          ]
        }
      ]
    },
    {
      "cell_type": "markdown",
      "metadata": {
        "id": "4YHF4vlO3sB7"
      },
      "source": [
        "#### Oeste - Sur"
      ]
    },
    {
      "cell_type": "code",
      "metadata": {
        "colab": {
          "base_uri": "https://localhost:8080/"
        },
        "id": "VzOdIzGh3tcp",
        "outputId": "016453ba-09a5-44a5-830c-a7e176237b65"
      },
      "source": [
        "# Testeamos varianza\n",
        "print(np.var(sur), np.var(oeste))"
      ],
      "execution_count": null,
      "outputs": [
        {
          "output_type": "stream",
          "name": "stdout",
          "text": [
            "0.146824 0.0696222222222222\n"
          ]
        }
      ]
    },
    {
      "cell_type": "code",
      "metadata": {
        "colab": {
          "base_uri": "https://localhost:8080/"
        },
        "id": "P3XPDgun3wsr",
        "outputId": "784b64cb-2468-4138-e44f-f8b95f82c8dc"
      },
      "source": [
        "if 0.14696477940164182 / 0.06896955016988404 > 2:\n",
        "  print('El ratio de las varianzas es mayor a 2, utilizar equal_var = False')\n",
        "else:\n",
        "  print('Las varianzas son similares, utilizar equal_var = True')"
      ],
      "execution_count": null,
      "outputs": [
        {
          "output_type": "stream",
          "name": "stdout",
          "text": [
            "El ratio de las varianzas es mayor a 2, utilizar equal_var = False\n"
          ]
        }
      ]
    },
    {
      "cell_type": "code",
      "metadata": {
        "colab": {
          "base_uri": "https://localhost:8080/"
        },
        "id": "elDzhp_D3wu5",
        "outputId": "45582a5f-cdcf-4d12-b6f4-cee767510fd4"
      },
      "source": [
        "# H0: sur >= oeste\n",
        "# H1: sur < oeste\n",
        "pruebat = stats.ttest_ind(oeste, sur, equal_var=False)\n",
        "pvalor15 = float(pruebat[1]/2)\n",
        "if pruebat[1] / 2 > 0.05:\n",
        "  print('No puedo rechazar H0')\n",
        "else:\n",
        "  print('Hay evidencia para rechazar H0')"
      ],
      "execution_count": null,
      "outputs": [
        {
          "output_type": "stream",
          "name": "stdout",
          "text": [
            "No puedo rechazar H0\n"
          ]
        }
      ]
    },
    {
      "cell_type": "markdown",
      "metadata": {
        "id": "d8LruRdGxvNI"
      },
      "source": [
        "## Tabla P-Valores"
      ]
    },
    {
      "cell_type": "code",
      "metadata": {
        "id": "3VUjJU3bxxFv"
      },
      "source": [
        "columnas = ['-','Alto Parana','Alto Uruguay','Centro','Nordeste','Oeste','Sur']\n",
        "p_valores = pd.DataFrame([['Alto Parana','-',pvalor1,pvalor2,pvalor3,pvalor4,pvalor5],\n",
        "                          ['Alto Uruguay',pvalor1,'-',pvalor6,pvalor7,pvalor8,pvalor9],\n",
        "                          ['Centro',pvalor2,pvalor6,'-',pvalor10,pvalor11,pvalor13],\n",
        "                          ['Nordeste',pvalor3,pvalor7,pvalor10,'-',pvalor12,pvalor14],\n",
        "                          ['Oeste',pvalor4,pvalor8,pvalor11,pvalor12,'-',pvalor15],\n",
        "                          ['Sur',pvalor5,pvalor9,pvalor13,pvalor14,pvalor15,'-']])\n",
        "p_valores.columns = columnas\n",
        "p_valores = p_valores.set_index('-')"
      ],
      "execution_count": null,
      "outputs": []
    },
    {
      "cell_type": "code",
      "metadata": {
        "colab": {
          "base_uri": "https://localhost:8080/"
        },
        "id": "k64UCQWS7Lxl",
        "outputId": "b4528025-5f0f-46f3-9f42-e89842a540e1"
      },
      "source": [
        "def color_pvalor(val):\n",
        "    try:\n",
        "      color = 'salmon' if val < 0.05 else 'white'\n",
        "      return 'background-color: %s' % color\n",
        "    except:\n",
        "      pass\n",
        "\n",
        "p_valores.style.applymap(color_pvalor)\n"
      ],
      "execution_count": null,
      "outputs": [
        {
          "output_type": "execute_result",
          "data": {
            "text/html": [
              "<style  type=\"text/css\" >\n",
              "#T_0c6b7f9a_0fcb_11ec_8e17_0242ac1c0002row0_col1,#T_0c6b7f9a_0fcb_11ec_8e17_0242ac1c0002row0_col2,#T_0c6b7f9a_0fcb_11ec_8e17_0242ac1c0002row0_col4,#T_0c6b7f9a_0fcb_11ec_8e17_0242ac1c0002row0_col5,#T_0c6b7f9a_0fcb_11ec_8e17_0242ac1c0002row1_col0,#T_0c6b7f9a_0fcb_11ec_8e17_0242ac1c0002row1_col2,#T_0c6b7f9a_0fcb_11ec_8e17_0242ac1c0002row1_col3,#T_0c6b7f9a_0fcb_11ec_8e17_0242ac1c0002row1_col4,#T_0c6b7f9a_0fcb_11ec_8e17_0242ac1c0002row2_col0,#T_0c6b7f9a_0fcb_11ec_8e17_0242ac1c0002row2_col1,#T_0c6b7f9a_0fcb_11ec_8e17_0242ac1c0002row2_col4,#T_0c6b7f9a_0fcb_11ec_8e17_0242ac1c0002row2_col5,#T_0c6b7f9a_0fcb_11ec_8e17_0242ac1c0002row3_col1,#T_0c6b7f9a_0fcb_11ec_8e17_0242ac1c0002row4_col0,#T_0c6b7f9a_0fcb_11ec_8e17_0242ac1c0002row4_col1,#T_0c6b7f9a_0fcb_11ec_8e17_0242ac1c0002row4_col2,#T_0c6b7f9a_0fcb_11ec_8e17_0242ac1c0002row4_col5,#T_0c6b7f9a_0fcb_11ec_8e17_0242ac1c0002row5_col0,#T_0c6b7f9a_0fcb_11ec_8e17_0242ac1c0002row5_col2,#T_0c6b7f9a_0fcb_11ec_8e17_0242ac1c0002row5_col4{\n",
              "            background-color:  white;\n",
              "        }#T_0c6b7f9a_0fcb_11ec_8e17_0242ac1c0002row0_col3,#T_0c6b7f9a_0fcb_11ec_8e17_0242ac1c0002row1_col5,#T_0c6b7f9a_0fcb_11ec_8e17_0242ac1c0002row2_col3,#T_0c6b7f9a_0fcb_11ec_8e17_0242ac1c0002row3_col0,#T_0c6b7f9a_0fcb_11ec_8e17_0242ac1c0002row3_col2,#T_0c6b7f9a_0fcb_11ec_8e17_0242ac1c0002row3_col4,#T_0c6b7f9a_0fcb_11ec_8e17_0242ac1c0002row3_col5,#T_0c6b7f9a_0fcb_11ec_8e17_0242ac1c0002row4_col3,#T_0c6b7f9a_0fcb_11ec_8e17_0242ac1c0002row5_col1,#T_0c6b7f9a_0fcb_11ec_8e17_0242ac1c0002row5_col3{\n",
              "            background-color:  salmon;\n",
              "        }</style><table id=\"T_0c6b7f9a_0fcb_11ec_8e17_0242ac1c0002\" ><thead>    <tr>        <th class=\"blank level0\" ></th>        <th class=\"col_heading level0 col0\" >Alto Parana</th>        <th class=\"col_heading level0 col1\" >Alto Uruguay</th>        <th class=\"col_heading level0 col2\" >Centro</th>        <th class=\"col_heading level0 col3\" >Nordeste</th>        <th class=\"col_heading level0 col4\" >Oeste</th>        <th class=\"col_heading level0 col5\" >Sur</th>    </tr>    <tr>        <th class=\"index_name level0\" >-</th>        <th class=\"blank\" ></th>        <th class=\"blank\" ></th>        <th class=\"blank\" ></th>        <th class=\"blank\" ></th>        <th class=\"blank\" ></th>        <th class=\"blank\" ></th>    </tr></thead><tbody>\n",
              "                <tr>\n",
              "                        <th id=\"T_0c6b7f9a_0fcb_11ec_8e17_0242ac1c0002level0_row0\" class=\"row_heading level0 row0\" >Alto Parana</th>\n",
              "                        <td id=\"T_0c6b7f9a_0fcb_11ec_8e17_0242ac1c0002row0_col0\" class=\"data row0 col0\" >-</td>\n",
              "                        <td id=\"T_0c6b7f9a_0fcb_11ec_8e17_0242ac1c0002row0_col1\" class=\"data row0 col1\" >0.132667</td>\n",
              "                        <td id=\"T_0c6b7f9a_0fcb_11ec_8e17_0242ac1c0002row0_col2\" class=\"data row0 col2\" >0.444932</td>\n",
              "                        <td id=\"T_0c6b7f9a_0fcb_11ec_8e17_0242ac1c0002row0_col3\" class=\"data row0 col3\" >0.022252</td>\n",
              "                        <td id=\"T_0c6b7f9a_0fcb_11ec_8e17_0242ac1c0002row0_col4\" class=\"data row0 col4\" >0.342860</td>\n",
              "                        <td id=\"T_0c6b7f9a_0fcb_11ec_8e17_0242ac1c0002row0_col5\" class=\"data row0 col5\" >0.428137</td>\n",
              "            </tr>\n",
              "            <tr>\n",
              "                        <th id=\"T_0c6b7f9a_0fcb_11ec_8e17_0242ac1c0002level0_row1\" class=\"row_heading level0 row1\" >Alto Uruguay</th>\n",
              "                        <td id=\"T_0c6b7f9a_0fcb_11ec_8e17_0242ac1c0002row1_col0\" class=\"data row1 col0\" >0.132667</td>\n",
              "                        <td id=\"T_0c6b7f9a_0fcb_11ec_8e17_0242ac1c0002row1_col1\" class=\"data row1 col1\" >-</td>\n",
              "                        <td id=\"T_0c6b7f9a_0fcb_11ec_8e17_0242ac1c0002row1_col2\" class=\"data row1 col2\" >0.076387</td>\n",
              "                        <td id=\"T_0c6b7f9a_0fcb_11ec_8e17_0242ac1c0002row1_col3\" class=\"data row1 col3\" >0.188873</td>\n",
              "                        <td id=\"T_0c6b7f9a_0fcb_11ec_8e17_0242ac1c0002row1_col4\" class=\"data row1 col4\" >0.144617</td>\n",
              "                        <td id=\"T_0c6b7f9a_0fcb_11ec_8e17_0242ac1c0002row1_col5\" class=\"data row1 col5\" >0.021141</td>\n",
              "            </tr>\n",
              "            <tr>\n",
              "                        <th id=\"T_0c6b7f9a_0fcb_11ec_8e17_0242ac1c0002level0_row2\" class=\"row_heading level0 row2\" >Centro</th>\n",
              "                        <td id=\"T_0c6b7f9a_0fcb_11ec_8e17_0242ac1c0002row2_col0\" class=\"data row2 col0\" >0.444932</td>\n",
              "                        <td id=\"T_0c6b7f9a_0fcb_11ec_8e17_0242ac1c0002row2_col1\" class=\"data row2 col1\" >0.076387</td>\n",
              "                        <td id=\"T_0c6b7f9a_0fcb_11ec_8e17_0242ac1c0002row2_col2\" class=\"data row2 col2\" >-</td>\n",
              "                        <td id=\"T_0c6b7f9a_0fcb_11ec_8e17_0242ac1c0002row2_col3\" class=\"data row2 col3\" >0.012328</td>\n",
              "                        <td id=\"T_0c6b7f9a_0fcb_11ec_8e17_0242ac1c0002row2_col4\" class=\"data row2 col4\" >0.437356</td>\n",
              "                        <td id=\"T_0c6b7f9a_0fcb_11ec_8e17_0242ac1c0002row2_col5\" class=\"data row2 col5\" >0.387375</td>\n",
              "            </tr>\n",
              "            <tr>\n",
              "                        <th id=\"T_0c6b7f9a_0fcb_11ec_8e17_0242ac1c0002level0_row3\" class=\"row_heading level0 row3\" >Nordeste</th>\n",
              "                        <td id=\"T_0c6b7f9a_0fcb_11ec_8e17_0242ac1c0002row3_col0\" class=\"data row3 col0\" >0.022252</td>\n",
              "                        <td id=\"T_0c6b7f9a_0fcb_11ec_8e17_0242ac1c0002row3_col1\" class=\"data row3 col1\" >0.188873</td>\n",
              "                        <td id=\"T_0c6b7f9a_0fcb_11ec_8e17_0242ac1c0002row3_col2\" class=\"data row3 col2\" >0.012328</td>\n",
              "                        <td id=\"T_0c6b7f9a_0fcb_11ec_8e17_0242ac1c0002row3_col3\" class=\"data row3 col3\" >-</td>\n",
              "                        <td id=\"T_0c6b7f9a_0fcb_11ec_8e17_0242ac1c0002row3_col4\" class=\"data row3 col4\" >0.005926</td>\n",
              "                        <td id=\"T_0c6b7f9a_0fcb_11ec_8e17_0242ac1c0002row3_col5\" class=\"data row3 col5\" >0.001478</td>\n",
              "            </tr>\n",
              "            <tr>\n",
              "                        <th id=\"T_0c6b7f9a_0fcb_11ec_8e17_0242ac1c0002level0_row4\" class=\"row_heading level0 row4\" >Oeste</th>\n",
              "                        <td id=\"T_0c6b7f9a_0fcb_11ec_8e17_0242ac1c0002row4_col0\" class=\"data row4 col0\" >0.342860</td>\n",
              "                        <td id=\"T_0c6b7f9a_0fcb_11ec_8e17_0242ac1c0002row4_col1\" class=\"data row4 col1\" >0.144617</td>\n",
              "                        <td id=\"T_0c6b7f9a_0fcb_11ec_8e17_0242ac1c0002row4_col2\" class=\"data row4 col2\" >0.437356</td>\n",
              "                        <td id=\"T_0c6b7f9a_0fcb_11ec_8e17_0242ac1c0002row4_col3\" class=\"data row4 col3\" >0.005926</td>\n",
              "                        <td id=\"T_0c6b7f9a_0fcb_11ec_8e17_0242ac1c0002row4_col4\" class=\"data row4 col4\" >-</td>\n",
              "                        <td id=\"T_0c6b7f9a_0fcb_11ec_8e17_0242ac1c0002row4_col5\" class=\"data row4 col5\" >0.286101</td>\n",
              "            </tr>\n",
              "            <tr>\n",
              "                        <th id=\"T_0c6b7f9a_0fcb_11ec_8e17_0242ac1c0002level0_row5\" class=\"row_heading level0 row5\" >Sur</th>\n",
              "                        <td id=\"T_0c6b7f9a_0fcb_11ec_8e17_0242ac1c0002row5_col0\" class=\"data row5 col0\" >0.428137</td>\n",
              "                        <td id=\"T_0c6b7f9a_0fcb_11ec_8e17_0242ac1c0002row5_col1\" class=\"data row5 col1\" >0.021141</td>\n",
              "                        <td id=\"T_0c6b7f9a_0fcb_11ec_8e17_0242ac1c0002row5_col2\" class=\"data row5 col2\" >0.387375</td>\n",
              "                        <td id=\"T_0c6b7f9a_0fcb_11ec_8e17_0242ac1c0002row5_col3\" class=\"data row5 col3\" >0.001478</td>\n",
              "                        <td id=\"T_0c6b7f9a_0fcb_11ec_8e17_0242ac1c0002row5_col4\" class=\"data row5 col4\" >0.286101</td>\n",
              "                        <td id=\"T_0c6b7f9a_0fcb_11ec_8e17_0242ac1c0002row5_col5\" class=\"data row5 col5\" >-</td>\n",
              "            </tr>\n",
              "    </tbody></table>"
            ],
            "text/plain": [
              "<pandas.io.formats.style.Styler at 0x7fc4ec3c5e50>"
            ]
          },
          "metadata": {},
          "execution_count": 578
        }
      ]
    }
  ]
}